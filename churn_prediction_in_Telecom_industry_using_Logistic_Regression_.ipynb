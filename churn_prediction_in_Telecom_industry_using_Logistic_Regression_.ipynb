{
  "nbformat": 4,
  "nbformat_minor": 0,
  "metadata": {
    "colab": {
      "provenance": []
    },
    "kernelspec": {
      "name": "python3",
      "display_name": "Python 3"
    },
    "language_info": {
      "name": "python"
    }
  },
  "cells": [
    {
      "cell_type": "code",
      "execution_count": null,
      "metadata": {
        "id": "zrl4fEJq5Oi6"
      },
      "outputs": [],
      "source": [
        "import pandas as pd \n",
        "import numpy as np\n",
        "import matplotlib.pyplot as plt\n",
        "import seaborn as sns\n",
        "from sklearn.preprocessing import LabelEncoder\n",
        "from sklearn.model_selection import train_test_split\n",
        "from sklearn.linear_model import LogisticRegression\n",
        "from sklearn.metrics import accuracy_score\n",
        "from sklearn.metrics import confusion_matrix\n",
        "\n",
        "\n"
      ]
    },
    {
      "cell_type": "code",
      "source": [
        "df = pd.read_csv(\"/content/Telco-Customer-Churn.csv\")\n",
        "df.head()"
      ],
      "metadata": {
        "colab": {
          "base_uri": "https://localhost:8080/",
          "height": 386
        },
        "id": "VJBdms1aZahX",
        "outputId": "af955f34-300d-418a-f45a-560ba87415b1"
      },
      "execution_count": null,
      "outputs": [
        {
          "output_type": "execute_result",
          "data": {
            "text/plain": [
              "   customerID  gender  SeniorCitizen Partner Dependents  tenure PhoneService  \\\n",
              "0  7590-VHVEG  Female              0     Yes         No       1           No   \n",
              "1  5575-GNVDE    Male              0      No         No      34          Yes   \n",
              "2  3668-QPYBK    Male              0      No         No       2          Yes   \n",
              "3  7795-CFOCW    Male              0      No         No      45           No   \n",
              "4  9237-HQITU  Female              0      No         No       2          Yes   \n",
              "\n",
              "      MultipleLines InternetService OnlineSecurity  ... DeviceProtection  \\\n",
              "0  No phone service             DSL             No  ...               No   \n",
              "1                No             DSL            Yes  ...              Yes   \n",
              "2                No             DSL            Yes  ...               No   \n",
              "3  No phone service             DSL            Yes  ...              Yes   \n",
              "4                No     Fiber optic             No  ...               No   \n",
              "\n",
              "  TechSupport StreamingTV StreamingMovies        Contract PaperlessBilling  \\\n",
              "0          No          No              No  Month-to-month              Yes   \n",
              "1          No          No              No        One year               No   \n",
              "2          No          No              No  Month-to-month              Yes   \n",
              "3         Yes          No              No        One year               No   \n",
              "4          No          No              No  Month-to-month              Yes   \n",
              "\n",
              "               PaymentMethod MonthlyCharges  TotalCharges Churn  \n",
              "0           Electronic check          29.85         29.85    No  \n",
              "1               Mailed check          56.95        1889.5    No  \n",
              "2               Mailed check          53.85        108.15   Yes  \n",
              "3  Bank transfer (automatic)          42.30       1840.75    No  \n",
              "4           Electronic check          70.70        151.65   Yes  \n",
              "\n",
              "[5 rows x 21 columns]"
            ],
            "text/html": [
              "\n",
              "  <div id=\"df-b0cf628f-aa62-44b3-9189-d46c33523033\">\n",
              "    <div class=\"colab-df-container\">\n",
              "      <div>\n",
              "<style scoped>\n",
              "    .dataframe tbody tr th:only-of-type {\n",
              "        vertical-align: middle;\n",
              "    }\n",
              "\n",
              "    .dataframe tbody tr th {\n",
              "        vertical-align: top;\n",
              "    }\n",
              "\n",
              "    .dataframe thead th {\n",
              "        text-align: right;\n",
              "    }\n",
              "</style>\n",
              "<table border=\"1\" class=\"dataframe\">\n",
              "  <thead>\n",
              "    <tr style=\"text-align: right;\">\n",
              "      <th></th>\n",
              "      <th>customerID</th>\n",
              "      <th>gender</th>\n",
              "      <th>SeniorCitizen</th>\n",
              "      <th>Partner</th>\n",
              "      <th>Dependents</th>\n",
              "      <th>tenure</th>\n",
              "      <th>PhoneService</th>\n",
              "      <th>MultipleLines</th>\n",
              "      <th>InternetService</th>\n",
              "      <th>OnlineSecurity</th>\n",
              "      <th>...</th>\n",
              "      <th>DeviceProtection</th>\n",
              "      <th>TechSupport</th>\n",
              "      <th>StreamingTV</th>\n",
              "      <th>StreamingMovies</th>\n",
              "      <th>Contract</th>\n",
              "      <th>PaperlessBilling</th>\n",
              "      <th>PaymentMethod</th>\n",
              "      <th>MonthlyCharges</th>\n",
              "      <th>TotalCharges</th>\n",
              "      <th>Churn</th>\n",
              "    </tr>\n",
              "  </thead>\n",
              "  <tbody>\n",
              "    <tr>\n",
              "      <th>0</th>\n",
              "      <td>7590-VHVEG</td>\n",
              "      <td>Female</td>\n",
              "      <td>0</td>\n",
              "      <td>Yes</td>\n",
              "      <td>No</td>\n",
              "      <td>1</td>\n",
              "      <td>No</td>\n",
              "      <td>No phone service</td>\n",
              "      <td>DSL</td>\n",
              "      <td>No</td>\n",
              "      <td>...</td>\n",
              "      <td>No</td>\n",
              "      <td>No</td>\n",
              "      <td>No</td>\n",
              "      <td>No</td>\n",
              "      <td>Month-to-month</td>\n",
              "      <td>Yes</td>\n",
              "      <td>Electronic check</td>\n",
              "      <td>29.85</td>\n",
              "      <td>29.85</td>\n",
              "      <td>No</td>\n",
              "    </tr>\n",
              "    <tr>\n",
              "      <th>1</th>\n",
              "      <td>5575-GNVDE</td>\n",
              "      <td>Male</td>\n",
              "      <td>0</td>\n",
              "      <td>No</td>\n",
              "      <td>No</td>\n",
              "      <td>34</td>\n",
              "      <td>Yes</td>\n",
              "      <td>No</td>\n",
              "      <td>DSL</td>\n",
              "      <td>Yes</td>\n",
              "      <td>...</td>\n",
              "      <td>Yes</td>\n",
              "      <td>No</td>\n",
              "      <td>No</td>\n",
              "      <td>No</td>\n",
              "      <td>One year</td>\n",
              "      <td>No</td>\n",
              "      <td>Mailed check</td>\n",
              "      <td>56.95</td>\n",
              "      <td>1889.5</td>\n",
              "      <td>No</td>\n",
              "    </tr>\n",
              "    <tr>\n",
              "      <th>2</th>\n",
              "      <td>3668-QPYBK</td>\n",
              "      <td>Male</td>\n",
              "      <td>0</td>\n",
              "      <td>No</td>\n",
              "      <td>No</td>\n",
              "      <td>2</td>\n",
              "      <td>Yes</td>\n",
              "      <td>No</td>\n",
              "      <td>DSL</td>\n",
              "      <td>Yes</td>\n",
              "      <td>...</td>\n",
              "      <td>No</td>\n",
              "      <td>No</td>\n",
              "      <td>No</td>\n",
              "      <td>No</td>\n",
              "      <td>Month-to-month</td>\n",
              "      <td>Yes</td>\n",
              "      <td>Mailed check</td>\n",
              "      <td>53.85</td>\n",
              "      <td>108.15</td>\n",
              "      <td>Yes</td>\n",
              "    </tr>\n",
              "    <tr>\n",
              "      <th>3</th>\n",
              "      <td>7795-CFOCW</td>\n",
              "      <td>Male</td>\n",
              "      <td>0</td>\n",
              "      <td>No</td>\n",
              "      <td>No</td>\n",
              "      <td>45</td>\n",
              "      <td>No</td>\n",
              "      <td>No phone service</td>\n",
              "      <td>DSL</td>\n",
              "      <td>Yes</td>\n",
              "      <td>...</td>\n",
              "      <td>Yes</td>\n",
              "      <td>Yes</td>\n",
              "      <td>No</td>\n",
              "      <td>No</td>\n",
              "      <td>One year</td>\n",
              "      <td>No</td>\n",
              "      <td>Bank transfer (automatic)</td>\n",
              "      <td>42.30</td>\n",
              "      <td>1840.75</td>\n",
              "      <td>No</td>\n",
              "    </tr>\n",
              "    <tr>\n",
              "      <th>4</th>\n",
              "      <td>9237-HQITU</td>\n",
              "      <td>Female</td>\n",
              "      <td>0</td>\n",
              "      <td>No</td>\n",
              "      <td>No</td>\n",
              "      <td>2</td>\n",
              "      <td>Yes</td>\n",
              "      <td>No</td>\n",
              "      <td>Fiber optic</td>\n",
              "      <td>No</td>\n",
              "      <td>...</td>\n",
              "      <td>No</td>\n",
              "      <td>No</td>\n",
              "      <td>No</td>\n",
              "      <td>No</td>\n",
              "      <td>Month-to-month</td>\n",
              "      <td>Yes</td>\n",
              "      <td>Electronic check</td>\n",
              "      <td>70.70</td>\n",
              "      <td>151.65</td>\n",
              "      <td>Yes</td>\n",
              "    </tr>\n",
              "  </tbody>\n",
              "</table>\n",
              "<p>5 rows × 21 columns</p>\n",
              "</div>\n",
              "      <button class=\"colab-df-convert\" onclick=\"convertToInteractive('df-b0cf628f-aa62-44b3-9189-d46c33523033')\"\n",
              "              title=\"Convert this dataframe to an interactive table.\"\n",
              "              style=\"display:none;\">\n",
              "        \n",
              "  <svg xmlns=\"http://www.w3.org/2000/svg\" height=\"24px\"viewBox=\"0 0 24 24\"\n",
              "       width=\"24px\">\n",
              "    <path d=\"M0 0h24v24H0V0z\" fill=\"none\"/>\n",
              "    <path d=\"M18.56 5.44l.94 2.06.94-2.06 2.06-.94-2.06-.94-.94-2.06-.94 2.06-2.06.94zm-11 1L8.5 8.5l.94-2.06 2.06-.94-2.06-.94L8.5 2.5l-.94 2.06-2.06.94zm10 10l.94 2.06.94-2.06 2.06-.94-2.06-.94-.94-2.06-.94 2.06-2.06.94z\"/><path d=\"M17.41 7.96l-1.37-1.37c-.4-.4-.92-.59-1.43-.59-.52 0-1.04.2-1.43.59L10.3 9.45l-7.72 7.72c-.78.78-.78 2.05 0 2.83L4 21.41c.39.39.9.59 1.41.59.51 0 1.02-.2 1.41-.59l7.78-7.78 2.81-2.81c.8-.78.8-2.07 0-2.86zM5.41 20L4 18.59l7.72-7.72 1.47 1.35L5.41 20z\"/>\n",
              "  </svg>\n",
              "      </button>\n",
              "      \n",
              "  <style>\n",
              "    .colab-df-container {\n",
              "      display:flex;\n",
              "      flex-wrap:wrap;\n",
              "      gap: 12px;\n",
              "    }\n",
              "\n",
              "    .colab-df-convert {\n",
              "      background-color: #E8F0FE;\n",
              "      border: none;\n",
              "      border-radius: 50%;\n",
              "      cursor: pointer;\n",
              "      display: none;\n",
              "      fill: #1967D2;\n",
              "      height: 32px;\n",
              "      padding: 0 0 0 0;\n",
              "      width: 32px;\n",
              "    }\n",
              "\n",
              "    .colab-df-convert:hover {\n",
              "      background-color: #E2EBFA;\n",
              "      box-shadow: 0px 1px 2px rgba(60, 64, 67, 0.3), 0px 1px 3px 1px rgba(60, 64, 67, 0.15);\n",
              "      fill: #174EA6;\n",
              "    }\n",
              "\n",
              "    [theme=dark] .colab-df-convert {\n",
              "      background-color: #3B4455;\n",
              "      fill: #D2E3FC;\n",
              "    }\n",
              "\n",
              "    [theme=dark] .colab-df-convert:hover {\n",
              "      background-color: #434B5C;\n",
              "      box-shadow: 0px 1px 3px 1px rgba(0, 0, 0, 0.15);\n",
              "      filter: drop-shadow(0px 1px 2px rgba(0, 0, 0, 0.3));\n",
              "      fill: #FFFFFF;\n",
              "    }\n",
              "  </style>\n",
              "\n",
              "      <script>\n",
              "        const buttonEl =\n",
              "          document.querySelector('#df-b0cf628f-aa62-44b3-9189-d46c33523033 button.colab-df-convert');\n",
              "        buttonEl.style.display =\n",
              "          google.colab.kernel.accessAllowed ? 'block' : 'none';\n",
              "\n",
              "        async function convertToInteractive(key) {\n",
              "          const element = document.querySelector('#df-b0cf628f-aa62-44b3-9189-d46c33523033');\n",
              "          const dataTable =\n",
              "            await google.colab.kernel.invokeFunction('convertToInteractive',\n",
              "                                                     [key], {});\n",
              "          if (!dataTable) return;\n",
              "\n",
              "          const docLinkHtml = 'Like what you see? Visit the ' +\n",
              "            '<a target=\"_blank\" href=https://colab.research.google.com/notebooks/data_table.ipynb>data table notebook</a>'\n",
              "            + ' to learn more about interactive tables.';\n",
              "          element.innerHTML = '';\n",
              "          dataTable['output_type'] = 'display_data';\n",
              "          await google.colab.output.renderOutput(dataTable, element);\n",
              "          const docLink = document.createElement('div');\n",
              "          docLink.innerHTML = docLinkHtml;\n",
              "          element.appendChild(docLink);\n",
              "        }\n",
              "      </script>\n",
              "    </div>\n",
              "  </div>\n",
              "  "
            ]
          },
          "metadata": {},
          "execution_count": 20
        }
      ]
    },
    {
      "cell_type": "code",
      "source": [
        "df.info"
      ],
      "metadata": {
        "colab": {
          "base_uri": "https://localhost:8080/"
        },
        "id": "w4V4Ll4UUdHr",
        "outputId": "c2397319-0df1-49fc-d67f-61f32168a61b"
      },
      "execution_count": null,
      "outputs": [
        {
          "output_type": "execute_result",
          "data": {
            "text/plain": [
              "<bound method DataFrame.info of       customerID  gender  SeniorCitizen Partner Dependents  tenure  \\\n",
              "0     7590-VHVEG  Female              0     Yes         No       1   \n",
              "1     5575-GNVDE    Male              0      No         No      34   \n",
              "2     3668-QPYBK    Male              0      No         No       2   \n",
              "3     7795-CFOCW    Male              0      No         No      45   \n",
              "4     9237-HQITU  Female              0      No         No       2   \n",
              "...          ...     ...            ...     ...        ...     ...   \n",
              "7038  6840-RESVB    Male              0     Yes        Yes      24   \n",
              "7039  2234-XADUH  Female              0     Yes        Yes      72   \n",
              "7040  4801-JZAZL  Female              0     Yes        Yes      11   \n",
              "7041  8361-LTMKD    Male              1     Yes         No       4   \n",
              "7042  3186-AJIEK    Male              0      No         No      66   \n",
              "\n",
              "     PhoneService     MultipleLines InternetService OnlineSecurity  ...  \\\n",
              "0              No  No phone service             DSL             No  ...   \n",
              "1             Yes                No             DSL            Yes  ...   \n",
              "2             Yes                No             DSL            Yes  ...   \n",
              "3              No  No phone service             DSL            Yes  ...   \n",
              "4             Yes                No     Fiber optic             No  ...   \n",
              "...           ...               ...             ...            ...  ...   \n",
              "7038          Yes               Yes             DSL            Yes  ...   \n",
              "7039          Yes               Yes     Fiber optic             No  ...   \n",
              "7040           No  No phone service             DSL            Yes  ...   \n",
              "7041          Yes               Yes     Fiber optic             No  ...   \n",
              "7042          Yes                No     Fiber optic            Yes  ...   \n",
              "\n",
              "     DeviceProtection TechSupport StreamingTV StreamingMovies        Contract  \\\n",
              "0                  No          No          No              No  Month-to-month   \n",
              "1                 Yes          No          No              No        One year   \n",
              "2                  No          No          No              No  Month-to-month   \n",
              "3                 Yes         Yes          No              No        One year   \n",
              "4                  No          No          No              No  Month-to-month   \n",
              "...               ...         ...         ...             ...             ...   \n",
              "7038              Yes         Yes         Yes             Yes        One year   \n",
              "7039              Yes          No         Yes             Yes        One year   \n",
              "7040               No          No          No              No  Month-to-month   \n",
              "7041               No          No          No              No  Month-to-month   \n",
              "7042              Yes         Yes         Yes             Yes        Two year   \n",
              "\n",
              "     PaperlessBilling              PaymentMethod MonthlyCharges  TotalCharges  \\\n",
              "0                 Yes           Electronic check          29.85         29.85   \n",
              "1                  No               Mailed check          56.95        1889.5   \n",
              "2                 Yes               Mailed check          53.85        108.15   \n",
              "3                  No  Bank transfer (automatic)          42.30       1840.75   \n",
              "4                 Yes           Electronic check          70.70        151.65   \n",
              "...               ...                        ...            ...           ...   \n",
              "7038              Yes               Mailed check          84.80        1990.5   \n",
              "7039              Yes    Credit card (automatic)         103.20        7362.9   \n",
              "7040              Yes           Electronic check          29.60        346.45   \n",
              "7041              Yes               Mailed check          74.40         306.6   \n",
              "7042              Yes  Bank transfer (automatic)         105.65        6844.5   \n",
              "\n",
              "     Churn  \n",
              "0       No  \n",
              "1       No  \n",
              "2      Yes  \n",
              "3       No  \n",
              "4      Yes  \n",
              "...    ...  \n",
              "7038    No  \n",
              "7039    No  \n",
              "7040    No  \n",
              "7041   Yes  \n",
              "7042    No  \n",
              "\n",
              "[7043 rows x 21 columns]>"
            ]
          },
          "metadata": {},
          "execution_count": 21
        }
      ]
    },
    {
      "cell_type": "code",
      "source": [
        "df.columns"
      ],
      "metadata": {
        "colab": {
          "base_uri": "https://localhost:8080/"
        },
        "id": "UOh489fAUhCi",
        "outputId": "afaeaa67-88b9-491d-9b20-de4ce806d559"
      },
      "execution_count": null,
      "outputs": [
        {
          "output_type": "execute_result",
          "data": {
            "text/plain": [
              "Index(['customerID', 'gender', 'SeniorCitizen', 'Partner', 'Dependents',\n",
              "       'tenure', 'PhoneService', 'MultipleLines', 'InternetService',\n",
              "       'OnlineSecurity', 'OnlineBackup', 'DeviceProtection', 'TechSupport',\n",
              "       'StreamingTV', 'StreamingMovies', 'Contract', 'PaperlessBilling',\n",
              "       'PaymentMethod', 'MonthlyCharges', 'TotalCharges', 'Churn'],\n",
              "      dtype='object')"
            ]
          },
          "metadata": {},
          "execution_count": 22
        }
      ]
    },
    {
      "cell_type": "code",
      "source": [
        "df.describe"
      ],
      "metadata": {
        "colab": {
          "base_uri": "https://localhost:8080/"
        },
        "id": "qKGqIq2zUlzy",
        "outputId": "de336d74-3967-445e-fada-198664471dce"
      },
      "execution_count": null,
      "outputs": [
        {
          "output_type": "execute_result",
          "data": {
            "text/plain": [
              "<bound method NDFrame.describe of       customerID  gender  SeniorCitizen Partner Dependents  tenure  \\\n",
              "0     7590-VHVEG  Female              0     Yes         No       1   \n",
              "1     5575-GNVDE    Male              0      No         No      34   \n",
              "2     3668-QPYBK    Male              0      No         No       2   \n",
              "3     7795-CFOCW    Male              0      No         No      45   \n",
              "4     9237-HQITU  Female              0      No         No       2   \n",
              "...          ...     ...            ...     ...        ...     ...   \n",
              "7038  6840-RESVB    Male              0     Yes        Yes      24   \n",
              "7039  2234-XADUH  Female              0     Yes        Yes      72   \n",
              "7040  4801-JZAZL  Female              0     Yes        Yes      11   \n",
              "7041  8361-LTMKD    Male              1     Yes         No       4   \n",
              "7042  3186-AJIEK    Male              0      No         No      66   \n",
              "\n",
              "     PhoneService     MultipleLines InternetService OnlineSecurity  ...  \\\n",
              "0              No  No phone service             DSL             No  ...   \n",
              "1             Yes                No             DSL            Yes  ...   \n",
              "2             Yes                No             DSL            Yes  ...   \n",
              "3              No  No phone service             DSL            Yes  ...   \n",
              "4             Yes                No     Fiber optic             No  ...   \n",
              "...           ...               ...             ...            ...  ...   \n",
              "7038          Yes               Yes             DSL            Yes  ...   \n",
              "7039          Yes               Yes     Fiber optic             No  ...   \n",
              "7040           No  No phone service             DSL            Yes  ...   \n",
              "7041          Yes               Yes     Fiber optic             No  ...   \n",
              "7042          Yes                No     Fiber optic            Yes  ...   \n",
              "\n",
              "     DeviceProtection TechSupport StreamingTV StreamingMovies        Contract  \\\n",
              "0                  No          No          No              No  Month-to-month   \n",
              "1                 Yes          No          No              No        One year   \n",
              "2                  No          No          No              No  Month-to-month   \n",
              "3                 Yes         Yes          No              No        One year   \n",
              "4                  No          No          No              No  Month-to-month   \n",
              "...               ...         ...         ...             ...             ...   \n",
              "7038              Yes         Yes         Yes             Yes        One year   \n",
              "7039              Yes          No         Yes             Yes        One year   \n",
              "7040               No          No          No              No  Month-to-month   \n",
              "7041               No          No          No              No  Month-to-month   \n",
              "7042              Yes         Yes         Yes             Yes        Two year   \n",
              "\n",
              "     PaperlessBilling              PaymentMethod MonthlyCharges  TotalCharges  \\\n",
              "0                 Yes           Electronic check          29.85         29.85   \n",
              "1                  No               Mailed check          56.95        1889.5   \n",
              "2                 Yes               Mailed check          53.85        108.15   \n",
              "3                  No  Bank transfer (automatic)          42.30       1840.75   \n",
              "4                 Yes           Electronic check          70.70        151.65   \n",
              "...               ...                        ...            ...           ...   \n",
              "7038              Yes               Mailed check          84.80        1990.5   \n",
              "7039              Yes    Credit card (automatic)         103.20        7362.9   \n",
              "7040              Yes           Electronic check          29.60        346.45   \n",
              "7041              Yes               Mailed check          74.40         306.6   \n",
              "7042              Yes  Bank transfer (automatic)         105.65        6844.5   \n",
              "\n",
              "     Churn  \n",
              "0       No  \n",
              "1       No  \n",
              "2      Yes  \n",
              "3       No  \n",
              "4      Yes  \n",
              "...    ...  \n",
              "7038    No  \n",
              "7039    No  \n",
              "7040    No  \n",
              "7041   Yes  \n",
              "7042    No  \n",
              "\n",
              "[7043 rows x 21 columns]>"
            ]
          },
          "metadata": {},
          "execution_count": 23
        }
      ]
    },
    {
      "cell_type": "code",
      "source": [
        "#Datatypes\n",
        "\n",
        "df.dtypes"
      ],
      "metadata": {
        "colab": {
          "base_uri": "https://localhost:8080/"
        },
        "id": "Cq-D1pAeao7V",
        "outputId": "f73c6a10-705e-4a92-f2f8-39e9d5bb7039"
      },
      "execution_count": null,
      "outputs": [
        {
          "output_type": "execute_result",
          "data": {
            "text/plain": [
              "customerID           object\n",
              "gender               object\n",
              "SeniorCitizen         int64\n",
              "Partner              object\n",
              "Dependents           object\n",
              "tenure                int64\n",
              "PhoneService         object\n",
              "MultipleLines        object\n",
              "InternetService      object\n",
              "OnlineSecurity       object\n",
              "OnlineBackup         object\n",
              "DeviceProtection     object\n",
              "TechSupport          object\n",
              "StreamingTV          object\n",
              "StreamingMovies      object\n",
              "Contract             object\n",
              "PaperlessBilling     object\n",
              "PaymentMethod        object\n",
              "MonthlyCharges      float64\n",
              "TotalCharges         object\n",
              "Churn                object\n",
              "dtype: object"
            ]
          },
          "metadata": {},
          "execution_count": 24
        }
      ]
    },
    {
      "cell_type": "markdown",
      "source": [
        "\n",
        "**Data preparation: cleaning**\n",
        "\n",
        "\n"
      ],
      "metadata": {
        "id": "OsKpR8VjW-iW"
      }
    },
    {
      "cell_type": "code",
      "source": [
        "#Find the duplicates\n",
        "\n",
        "df.duplicated().sum()"
      ],
      "metadata": {
        "colab": {
          "base_uri": "https://localhost:8080/"
        },
        "id": "jmJu58q7ad85",
        "outputId": "4e0e52eb-a683-44c2-cac4-94299380fed1"
      },
      "execution_count": null,
      "outputs": [
        {
          "output_type": "execute_result",
          "data": {
            "text/plain": [
              "0"
            ]
          },
          "metadata": {},
          "execution_count": 25
        }
      ]
    },
    {
      "cell_type": "code",
      "source": [
        "print(\"Missing values distribution: \")\n",
        "print(df.isnull().mean())\n",
        "print(\"\")"
      ],
      "metadata": {
        "colab": {
          "base_uri": "https://localhost:8080/"
        },
        "id": "nv3_X0yfW1FS",
        "outputId": "7c40e330-9167-44e8-b131-9345a50d00a5"
      },
      "execution_count": null,
      "outputs": [
        {
          "output_type": "stream",
          "name": "stdout",
          "text": [
            "Missing values distribution: \n",
            "customerID          0.0\n",
            "gender              0.0\n",
            "SeniorCitizen       0.0\n",
            "Partner             0.0\n",
            "Dependents          0.0\n",
            "tenure              0.0\n",
            "PhoneService        0.0\n",
            "MultipleLines       0.0\n",
            "InternetService     0.0\n",
            "OnlineSecurity      0.0\n",
            "OnlineBackup        0.0\n",
            "DeviceProtection    0.0\n",
            "TechSupport         0.0\n",
            "StreamingTV         0.0\n",
            "StreamingMovies     0.0\n",
            "Contract            0.0\n",
            "PaperlessBilling    0.0\n",
            "PaymentMethod       0.0\n",
            "MonthlyCharges      0.0\n",
            "TotalCharges        0.0\n",
            "Churn               0.0\n",
            "dtype: float64\n",
            "\n"
          ]
        }
      ]
    },
    {
      "cell_type": "code",
      "source": [
        "# Checking the null velues in data\n",
        "df.isnull().sum()"
      ],
      "metadata": {
        "colab": {
          "base_uri": "https://localhost:8080/"
        },
        "id": "G5JiWXzSYEI4",
        "outputId": "47a78052-f4ad-4879-e5fa-b6aa989b1218"
      },
      "execution_count": null,
      "outputs": [
        {
          "output_type": "execute_result",
          "data": {
            "text/plain": [
              "customerID          0\n",
              "gender              0\n",
              "SeniorCitizen       0\n",
              "Partner             0\n",
              "Dependents          0\n",
              "tenure              0\n",
              "PhoneService        0\n",
              "MultipleLines       0\n",
              "InternetService     0\n",
              "OnlineSecurity      0\n",
              "OnlineBackup        0\n",
              "DeviceProtection    0\n",
              "TechSupport         0\n",
              "StreamingTV         0\n",
              "StreamingMovies     0\n",
              "Contract            0\n",
              "PaperlessBilling    0\n",
              "PaymentMethod       0\n",
              "MonthlyCharges      0\n",
              "TotalCharges        0\n",
              "Churn               0\n",
              "dtype: int64"
            ]
          },
          "metadata": {},
          "execution_count": 27
        }
      ]
    },
    {
      "cell_type": "code",
      "source": [
        "print (df.isnull().sum())"
      ],
      "metadata": {
        "colab": {
          "base_uri": "https://localhost:8080/"
        },
        "id": "cvJ_fPlLYncI",
        "outputId": "fc0676cd-a0e7-4c21-d4c0-3fb2a1e5732c"
      },
      "execution_count": null,
      "outputs": [
        {
          "output_type": "stream",
          "name": "stdout",
          "text": [
            "customerID          0\n",
            "gender              0\n",
            "SeniorCitizen       0\n",
            "Partner             0\n",
            "Dependents          0\n",
            "tenure              0\n",
            "PhoneService        0\n",
            "MultipleLines       0\n",
            "InternetService     0\n",
            "OnlineSecurity      0\n",
            "OnlineBackup        0\n",
            "DeviceProtection    0\n",
            "TechSupport         0\n",
            "StreamingTV         0\n",
            "StreamingMovies     0\n",
            "Contract            0\n",
            "PaperlessBilling    0\n",
            "PaymentMethod       0\n",
            "MonthlyCharges      0\n",
            "TotalCharges        0\n",
            "Churn               0\n",
            "dtype: int64\n"
          ]
        }
      ]
    },
    {
      "cell_type": "code",
      "source": [
        " print(df.isnull())"
      ],
      "metadata": {
        "colab": {
          "base_uri": "https://localhost:8080/"
        },
        "id": "WUd5S1ZBXimv",
        "outputId": "a9ff1bdc-94ba-4764-9c83-9f5e530a3780"
      },
      "execution_count": null,
      "outputs": [
        {
          "output_type": "stream",
          "name": "stdout",
          "text": [
            "      customerID  gender  SeniorCitizen  Partner  Dependents  tenure  \\\n",
            "0          False   False          False    False       False   False   \n",
            "1          False   False          False    False       False   False   \n",
            "2          False   False          False    False       False   False   \n",
            "3          False   False          False    False       False   False   \n",
            "4          False   False          False    False       False   False   \n",
            "...          ...     ...            ...      ...         ...     ...   \n",
            "7038       False   False          False    False       False   False   \n",
            "7039       False   False          False    False       False   False   \n",
            "7040       False   False          False    False       False   False   \n",
            "7041       False   False          False    False       False   False   \n",
            "7042       False   False          False    False       False   False   \n",
            "\n",
            "      PhoneService  MultipleLines  InternetService  OnlineSecurity  ...  \\\n",
            "0            False          False            False           False  ...   \n",
            "1            False          False            False           False  ...   \n",
            "2            False          False            False           False  ...   \n",
            "3            False          False            False           False  ...   \n",
            "4            False          False            False           False  ...   \n",
            "...            ...            ...              ...             ...  ...   \n",
            "7038         False          False            False           False  ...   \n",
            "7039         False          False            False           False  ...   \n",
            "7040         False          False            False           False  ...   \n",
            "7041         False          False            False           False  ...   \n",
            "7042         False          False            False           False  ...   \n",
            "\n",
            "      DeviceProtection  TechSupport  StreamingTV  StreamingMovies  Contract  \\\n",
            "0                False        False        False            False     False   \n",
            "1                False        False        False            False     False   \n",
            "2                False        False        False            False     False   \n",
            "3                False        False        False            False     False   \n",
            "4                False        False        False            False     False   \n",
            "...                ...          ...          ...              ...       ...   \n",
            "7038             False        False        False            False     False   \n",
            "7039             False        False        False            False     False   \n",
            "7040             False        False        False            False     False   \n",
            "7041             False        False        False            False     False   \n",
            "7042             False        False        False            False     False   \n",
            "\n",
            "      PaperlessBilling  PaymentMethod  MonthlyCharges  TotalCharges  Churn  \n",
            "0                False          False           False         False  False  \n",
            "1                False          False           False         False  False  \n",
            "2                False          False           False         False  False  \n",
            "3                False          False           False         False  False  \n",
            "4                False          False           False         False  False  \n",
            "...                ...            ...             ...           ...    ...  \n",
            "7038             False          False           False         False  False  \n",
            "7039             False          False           False         False  False  \n",
            "7040             False          False           False         False  False  \n",
            "7041             False          False           False         False  False  \n",
            "7042             False          False           False         False  False  \n",
            "\n",
            "[7043 rows x 21 columns]\n"
          ]
        }
      ]
    },
    {
      "cell_type": "markdown",
      "source": [
        "# **Data exploratory**\n",
        "\n",
        "\n"
      ],
      "metadata": {
        "id": "Y4IHVPAwYtEq"
      }
    },
    {
      "cell_type": "code",
      "source": [
        "#Count InternetService\n",
        "InternetService = df['InternetService'].value_counts(dropna = False).sort_index()\n",
        "InternetService"
      ],
      "metadata": {
        "colab": {
          "base_uri": "https://localhost:8080/"
        },
        "id": "2cHwBdXXYsSr",
        "outputId": "1132135f-a896-4ab1-b095-1d2e3edcaf51"
      },
      "execution_count": null,
      "outputs": [
        {
          "output_type": "execute_result",
          "data": {
            "text/plain": [
              "DSL            2421\n",
              "Fiber optic    3096\n",
              "No             1526\n",
              "Name: InternetService, dtype: int64"
            ]
          },
          "metadata": {},
          "execution_count": 30
        }
      ]
    },
    {
      "cell_type": "code",
      "source": [
        "# visualization of InternetService\n",
        "plt.figure(figsize=(5,5))\n",
        "sns.countplot(x='InternetService',data=df)\n",
        "plt.xticks(rotation=90)\n",
        "plt.title('Number of InternetService')\n",
        "plt.show()"
      ],
      "metadata": {
        "colab": {
          "base_uri": "https://localhost:8080/",
          "height": 392
        },
        "id": "Fzqu7hwFnYHK",
        "outputId": "7ed99884-f500-4807-ae2e-2084f310b884"
      },
      "execution_count": null,
      "outputs": [
        {
          "output_type": "display_data",
          "data": {
            "text/plain": [
              "<Figure size 360x360 with 1 Axes>"
            ],
            "image/png": "[encoded data removed]"
          },
          "metadata": {
            "needs_background": "light"
          }
        }
      ]
    },
    {
      "cell_type": "code",
      "source": [
        "#Count PaymentMethod\n",
        "InternetService = df['PaymentMethod'].value_counts(dropna = False).sort_index()\n",
        "InternetService"
      ],
      "metadata": {
        "colab": {
          "base_uri": "https://localhost:8080/"
        },
        "id": "8XJgCnbFnahv",
        "outputId": "53a48b57-acf8-4809-9e97-ddbe0e5289b5"
      },
      "execution_count": null,
      "outputs": [
        {
          "output_type": "execute_result",
          "data": {
            "text/plain": [
              "Bank transfer (automatic)    1544\n",
              "Credit card (automatic)      1522\n",
              "Electronic check             2365\n",
              "Mailed check                 1612\n",
              "Name: PaymentMethod, dtype: int64"
            ]
          },
          "metadata": {},
          "execution_count": 32
        }
      ]
    },
    {
      "cell_type": "code",
      "source": [
        "# visualization of InternetService\n",
        "plt.figure(figsize=(5,5))\n",
        "sns.countplot(x='PaymentMethod',data=df)\n",
        "plt.xticks(rotation=90)\n",
        "plt.title('Number of PaymentMethod')\n",
        "plt.show()"
      ],
      "metadata": {
        "colab": {
          "base_uri": "https://localhost:8080/",
          "height": 469
        },
        "id": "sISaoltSZQSj",
        "outputId": "2568998b-94c5-4a54-f08c-81b4fa39634a"
      },
      "execution_count": null,
      "outputs": [
        {
          "output_type": "display_data",
          "data": {
            "text/plain": [
              "<Figure size 360x360 with 1 Axes>"
            ],
            "image/png": "[encoded data removed]"
          },
          "metadata": {
            "needs_background": "light"
          }
        }
      ]
    },
    {
      "cell_type": "code",
      "source": [
        "sns.countplot(df.gender)\n",
        "plt.show()"
      ],
      "metadata": {
        "colab": {
          "base_uri": "https://localhost:8080/",
          "height": 334
        },
        "id": "XbFuMplYnLf4",
        "outputId": "677ae2da-eafa-4e9b-a73f-f6a4d3dcbf4c"
      },
      "execution_count": null,
      "outputs": [
        {
          "output_type": "stream",
          "name": "stderr",
          "text": [
            "/usr/local/lib/python3.8/dist-packages/seaborn/_decorators.py:36: FutureWarning: Pass the following variable as a keyword arg: x. From version 0.12, the only valid positional argument will be `data`, and passing other arguments without an explicit keyword will result in an error or misinterpretation.\n",
            "  warnings.warn(\n"
          ]
        },
        {
          "output_type": "display_data",
          "data": {
            "text/plain": [
              "<Figure size 432x288 with 1 Axes>"
            ],
            "image/png": "[encoded data removed]"
          },
          "metadata": {
            "needs_background": "light"
          }
        }
      ]
    },
    {
      "cell_type": "code",
      "source": [
        "# Visualizing Data\n",
        "sns.countplot(data=df,x='Churn',palette=['red','pink'] )"
      ],
      "metadata": {
        "colab": {
          "base_uri": "https://localhost:8080/",
          "height": 296
        },
        "id": "Z5wsuagDoj5s",
        "outputId": "a6e84129-6dc3-4cec-8f8d-b7e76fedf5a3"
      },
      "execution_count": null,
      "outputs": [
        {
          "output_type": "execute_result",
          "data": {
            "text/plain": [
              "<matplotlib.axes._subplots.AxesSubplot at 0x7fc08b7d50d0>"
            ]
          },
          "metadata": {},
          "execution_count": 35
        },
        {
          "output_type": "display_data",
          "data": {
            "text/plain": [
              "<Figure size 432x288 with 1 Axes>"
            ],
            "image/png": "[encoded data removed]"
          },
          "metadata": {
            "needs_background": "light"
          }
        }
      ]
    },
    {
      "cell_type": "code",
      "source": [
        "# Visualizing Churn data based on Internet Service\n",
        "sns.countplot(data=df, x='PaymentMethod', hue='Churn', palette=['blue','green'])"
      ],
      "metadata": {
        "colab": {
          "base_uri": "https://localhost:8080/",
          "height": 296
        },
        "id": "X4aN9lbxa9jt",
        "outputId": "1d550336-7ac0-42ab-8d02-10a6321c66d4"
      },
      "execution_count": null,
      "outputs": [
        {
          "output_type": "execute_result",
          "data": {
            "text/plain": [
              "<matplotlib.axes._subplots.AxesSubplot at 0x7fc08b793250>"
            ]
          },
          "metadata": {},
          "execution_count": 36
        },
        {
          "output_type": "display_data",
          "data": {
            "text/plain": [
              "<Figure size 432x288 with 1 Axes>"
            ],
            "image/png": "[encoded data removed]"
          },
          "metadata": {
            "needs_background": "light"
          }
        }
      ]
    },
    {
      "cell_type": "code",
      "source": [
        "plt.figure(figsize=(15,10))\n",
        "pie_PaymentMethod_ec = pd.DataFrame(df[df['gender'] == \"Male\"]['Churn'].value_counts())\n",
        "pie_PaymentMethod_ec.plot.pie(subplots=True, labels = pie_PaymentMethod_ec.index.values, autopct='%1.1f%%', startangle= 82)\n",
        "plt.title('Male')\n",
        "plt.gca().set_aspect('equal')"
      ],
      "metadata": {
        "colab": {
          "base_uri": "https://localhost:8080/",
          "height": 281
        },
        "id": "k5lDePtLmSUH",
        "outputId": "4b81b37a-0751-456c-a879-62d464b57521"
      },
      "execution_count": null,
      "outputs": [
        {
          "output_type": "display_data",
          "data": {
            "text/plain": [
              "<Figure size 1080x720 with 0 Axes>"
            ]
          },
          "metadata": {}
        },
        {
          "output_type": "display_data",
          "data": {
            "text/plain": [
              "<Figure size 432x288 with 1 Axes>"
            ],
            "image/png": "[encoded data removed]"
          },
          "metadata": {}
        }
      ]
    },
    {
      "cell_type": "code",
      "source": [
        "plt.figure(figsize=(15,10))\n",
        "pie_PaymentMethod_ec = pd.DataFrame(df[df['gender'] == \"Female\"]['Churn'].value_counts())\n",
        "pie_PaymentMethod_ec.plot.pie(subplots=True, labels = pie_PaymentMethod_ec.index.values, autopct='%1.1f%%', startangle= 82)\n",
        "plt.title('Male')\n",
        "plt.gca().set_aspect('equal')"
      ],
      "metadata": {
        "colab": {
          "base_uri": "https://localhost:8080/",
          "height": 281
        },
        "id": "odrjm8mpnDWg",
        "outputId": "01eba86f-a658-4d23-c440-c1a73601f3d1"
      },
      "execution_count": null,
      "outputs": [
        {
          "output_type": "display_data",
          "data": {
            "text/plain": [
              "<Figure size 1080x720 with 0 Axes>"
            ]
          },
          "metadata": {}
        },
        {
          "output_type": "display_data",
          "data": {
            "text/plain": [
              "<Figure size 432x288 with 1 Axes>"
            ],
            "image/png": "[encoded data removed]"
          },
          "metadata": {}
        }
      ]
    },
    {
      "cell_type": "code",
      "source": [
        "del df['customerID']"
      ],
      "metadata": {
        "id": "EbylaOHSndLQ"
      },
      "execution_count": null,
      "outputs": []
    },
    {
      "cell_type": "markdown",
      "source": [],
      "metadata": {
        "id": "7f64YvcaUG3t"
      }
    },
    {
      "cell_type": "code",
      "source": [
        "\n",
        "df = df.apply(LabelEncoder().fit_transform)"
      ],
      "metadata": {
        "id": "G5SOEupqUHH8"
      },
      "execution_count": null,
      "outputs": []
    },
    {
      "cell_type": "code",
      "source": [
        "df.dtypes"
      ],
      "metadata": {
        "colab": {
          "base_uri": "https://localhost:8080/"
        },
        "id": "imKCJNmkm0eV",
        "outputId": "931b5ce3-45bc-49ee-ea3d-2230ab19f7cf"
      },
      "execution_count": null,
      "outputs": [
        {
          "output_type": "execute_result",
          "data": {
            "text/plain": [
              "gender              int64\n",
              "SeniorCitizen       int64\n",
              "Partner             int64\n",
              "Dependents          int64\n",
              "tenure              int64\n",
              "PhoneService        int64\n",
              "MultipleLines       int64\n",
              "InternetService     int64\n",
              "OnlineSecurity      int64\n",
              "OnlineBackup        int64\n",
              "DeviceProtection    int64\n",
              "TechSupport         int64\n",
              "StreamingTV         int64\n",
              "StreamingMovies     int64\n",
              "Contract            int64\n",
              "PaperlessBilling    int64\n",
              "PaymentMethod       int64\n",
              "MonthlyCharges      int64\n",
              "TotalCharges        int64\n",
              "Churn               int64\n",
              "dtype: object"
            ]
          },
          "metadata": {},
          "execution_count": 41
        }
      ]
    },
    {
      "cell_type": "code",
      "source": [
        "df.corr()"
      ],
      "metadata": {
        "colab": {
          "base_uri": "https://localhost:8080/",
          "height": 741
        },
        "id": "YDQhJfBCos2e",
        "outputId": "d380305e-82d0-45d0-e486-17645f61d151"
      },
      "execution_count": null,
      "outputs": [
        {
          "output_type": "execute_result",
          "data": {
            "text/plain": [
              "                    gender  SeniorCitizen   Partner  Dependents    tenure  \\\n",
              "gender            1.000000      -0.001874 -0.001808    0.010517  0.005106   \n",
              "SeniorCitizen    -0.001874       1.000000  0.016479   -0.211185  0.016567   \n",
              "Partner          -0.001808       0.016479  1.000000    0.452676  0.379697   \n",
              "Dependents        0.010517      -0.211185  0.452676    1.000000  0.159712   \n",
              "tenure            0.005106       0.016567  0.379697    0.159712  1.000000   \n",
              "PhoneService     -0.006488       0.008576  0.017706   -0.001762  0.008448   \n",
              "MultipleLines    -0.006739       0.146185  0.142410   -0.024991  0.343032   \n",
              "InternetService  -0.000863      -0.032310  0.000891    0.044590 -0.030359   \n",
              "OnlineSecurity   -0.015017      -0.128221  0.150828    0.152166  0.325468   \n",
              "OnlineBackup     -0.012057      -0.013632  0.153130    0.091015  0.370876   \n",
              "DeviceProtection  0.000549      -0.021398  0.166330    0.080537  0.371105   \n",
              "TechSupport      -0.006825      -0.151268  0.126733    0.133524  0.322942   \n",
              "StreamingTV      -0.006421       0.030776  0.137341    0.046885  0.289373   \n",
              "StreamingMovies  -0.008743       0.047266  0.129574    0.021321  0.296866   \n",
              "Contract          0.000126      -0.142554  0.294806    0.243187  0.671607   \n",
              "PaperlessBilling -0.011754       0.156530 -0.014877   -0.111377  0.006152   \n",
              "PaymentMethod     0.017352      -0.038551 -0.154798   -0.040292 -0.370436   \n",
              "MonthlyCharges   -0.014623       0.219524  0.106501   -0.107507  0.268133   \n",
              "TotalCharges     -0.005291       0.037653  0.059568   -0.009572  0.158523   \n",
              "Churn            -0.008612       0.150889 -0.150448   -0.164221 -0.352229   \n",
              "\n",
              "                  PhoneService  MultipleLines  InternetService  \\\n",
              "gender               -0.006488      -0.006739        -0.000863   \n",
              "SeniorCitizen         0.008576       0.146185        -0.032310   \n",
              "Partner               0.017706       0.142410         0.000891   \n",
              "Dependents           -0.001762      -0.024991         0.044590   \n",
              "tenure                0.008448       0.343032        -0.030359   \n",
              "PhoneService          1.000000      -0.020538         0.387436   \n",
              "MultipleLines        -0.020538       1.000000        -0.109216   \n",
              "InternetService       0.387436      -0.109216         1.000000   \n",
              "OnlineSecurity       -0.015198       0.007141        -0.028416   \n",
              "OnlineBackup          0.024105       0.117327         0.036138   \n",
              "DeviceProtection      0.003727       0.122318         0.044944   \n",
              "TechSupport          -0.019158       0.011466        -0.026047   \n",
              "StreamingTV           0.055353       0.175059         0.107417   \n",
              "StreamingMovies       0.043870       0.180957         0.098350   \n",
              "Contract              0.002247       0.110842         0.099721   \n",
              "PaperlessBilling      0.016505       0.165146        -0.138625   \n",
              "PaymentMethod        -0.004184      -0.176793         0.086140   \n",
              "MonthlyCharges        0.271209       0.444580        -0.244965   \n",
              "TotalCharges          0.083195       0.114955        -0.055724   \n",
              "Churn                 0.011942       0.038037        -0.047291   \n",
              "\n",
              "                  OnlineSecurity  OnlineBackup  DeviceProtection  TechSupport  \\\n",
              "gender                 -0.015017     -0.012057          0.000549    -0.006825   \n",
              "SeniorCitizen          -0.128221     -0.013632         -0.021398    -0.151268   \n",
              "Partner                 0.150828      0.153130          0.166330     0.126733   \n",
              "Dependents              0.152166      0.091015          0.080537     0.133524   \n",
              "tenure                  0.325468      0.370876          0.371105     0.322942   \n",
              "PhoneService           -0.015198      0.024105          0.003727    -0.019158   \n",
              "MultipleLines           0.007141      0.117327          0.122318     0.011466   \n",
              "InternetService        -0.028416      0.036138          0.044944    -0.026047   \n",
              "OnlineSecurity          1.000000      0.185126          0.175985     0.285028   \n",
              "OnlineBackup            0.185126      1.000000          0.187757     0.195748   \n",
              "DeviceProtection        0.175985      0.187757          1.000000     0.240593   \n",
              "TechSupport             0.285028      0.195748          0.240593     1.000000   \n",
              "StreamingTV             0.044669      0.147186          0.276652     0.161305   \n",
              "StreamingMovies         0.055954      0.136722          0.288799     0.161316   \n",
              "Contract                0.374416      0.280980          0.350277     0.425367   \n",
              "PaperlessBilling       -0.157641     -0.013370         -0.038234    -0.113600   \n",
              "PaymentMethod          -0.096726     -0.124847         -0.135750    -0.104670   \n",
              "MonthlyCharges         -0.044692      0.141258          0.189949     0.006412   \n",
              "TotalCharges            0.042357      0.090756          0.105905     0.057488   \n",
              "Churn                  -0.289309     -0.195525         -0.178134    -0.282492   \n",
              "\n",
              "                  StreamingTV  StreamingMovies  Contract  PaperlessBilling  \\\n",
              "gender              -0.006421        -0.008743  0.000126         -0.011754   \n",
              "SeniorCitizen        0.030776         0.047266 -0.142554          0.156530   \n",
              "Partner              0.137341         0.129574  0.294806         -0.014877   \n",
              "Dependents           0.046885         0.021321  0.243187         -0.111377   \n",
              "tenure               0.289373         0.296866  0.671607          0.006152   \n",
              "PhoneService         0.055353         0.043870  0.002247          0.016505   \n",
              "MultipleLines        0.175059         0.180957  0.110842          0.165146   \n",
              "InternetService      0.107417         0.098350  0.099721         -0.138625   \n",
              "OnlineSecurity       0.044669         0.055954  0.374416         -0.157641   \n",
              "OnlineBackup         0.147186         0.136722  0.280980         -0.013370   \n",
              "DeviceProtection     0.276652         0.288799  0.350277         -0.038234   \n",
              "TechSupport          0.161305         0.161316  0.425367         -0.113600   \n",
              "StreamingTV          1.000000         0.434772  0.227116          0.096642   \n",
              "StreamingMovies      0.434772         1.000000  0.231226          0.083700   \n",
              "Contract             0.227116         0.231226  1.000000         -0.176733   \n",
              "PaperlessBilling     0.096642         0.083700 -0.176733          1.000000   \n",
              "PaymentMethod       -0.104234        -0.111241 -0.227543         -0.062904   \n",
              "MonthlyCharges       0.377224         0.375323 -0.050595          0.344417   \n",
              "TotalCharges         0.138173         0.145366  0.106178          0.100957   \n",
              "Churn               -0.036581        -0.038492 -0.396713          0.191825   \n",
              "\n",
              "                  PaymentMethod  MonthlyCharges  TotalCharges     Churn  \n",
              "gender                 0.017352       -0.014623     -0.005291 -0.008612  \n",
              "SeniorCitizen         -0.038551        0.219524      0.037653  0.150889  \n",
              "Partner               -0.154798        0.106501      0.059568 -0.150448  \n",
              "Dependents            -0.040292       -0.107507     -0.009572 -0.164221  \n",
              "tenure                -0.370436        0.268133      0.158523 -0.352229  \n",
              "PhoneService          -0.004184        0.271209      0.083195  0.011942  \n",
              "MultipleLines         -0.176793        0.444580      0.114955  0.038037  \n",
              "InternetService        0.086140       -0.244965     -0.055724 -0.047291  \n",
              "OnlineSecurity        -0.096726       -0.044692      0.042357 -0.289309  \n",
              "OnlineBackup          -0.124847        0.141258      0.090756 -0.195525  \n",
              "DeviceProtection      -0.135750        0.189949      0.105905 -0.178134  \n",
              "TechSupport           -0.104670        0.006412      0.057488 -0.282492  \n",
              "StreamingTV           -0.104234        0.377224      0.138173 -0.036581  \n",
              "StreamingMovies       -0.111241        0.375323      0.145366 -0.038492  \n",
              "Contract              -0.227543       -0.050595      0.106178 -0.396713  \n",
              "PaperlessBilling      -0.062904        0.344417      0.100957  0.191825  \n",
              "PaymentMethod          1.000000       -0.193822     -0.067477  0.107062  \n",
              "MonthlyCharges        -0.193822        1.000000      0.289637  0.183523  \n",
              "TotalCharges          -0.067477        0.289637      1.000000  0.014479  \n",
              "Churn                  0.107062        0.183523      0.014479  1.000000  "
            ],
            "text/html": [
              "\n",
              "  <div id=\"df-4b04a7d1-505d-4351-9e87-01723f88c7fc\">\n",
              "    <div class=\"colab-df-container\">\n",
              "      <div>\n",
              "<style scoped>\n",
              "    .dataframe tbody tr th:only-of-type {\n",
              "        vertical-align: middle;\n",
              "    }\n",
              "\n",
              "    .dataframe tbody tr th {\n",
              "        vertical-align: top;\n",
              "    }\n",
              "\n",
              "    .dataframe thead th {\n",
              "        text-align: right;\n",
              "    }\n",
              "</style>\n",
              "<table border=\"1\" class=\"dataframe\">\n",
              "  <thead>\n",
              "    <tr style=\"text-align: right;\">\n",
              "      <th></th>\n",
              "      <th>gender</th>\n",
              "      <th>SeniorCitizen</th>\n",
              "      <th>Partner</th>\n",
              "      <th>Dependents</th>\n",
              "      <th>tenure</th>\n",
              "      <th>PhoneService</th>\n",
              "      <th>MultipleLines</th>\n",
              "      <th>InternetService</th>\n",
              "      <th>OnlineSecurity</th>\n",
              "      <th>OnlineBackup</th>\n",
              "      <th>DeviceProtection</th>\n",
              "      <th>TechSupport</th>\n",
              "      <th>StreamingTV</th>\n",
              "      <th>StreamingMovies</th>\n",
              "      <th>Contract</th>\n",
              "      <th>PaperlessBilling</th>\n",
              "      <th>PaymentMethod</th>\n",
              "      <th>MonthlyCharges</th>\n",
              "      <th>TotalCharges</th>\n",
              "      <th>Churn</th>\n",
              "    </tr>\n",
              "  </thead>\n",
              "  <tbody>\n",
              "    <tr>\n",
              "      <th>gender</th>\n",
              "      <td>1.000000</td>\n",
              "      <td>-0.001874</td>\n",
              "      <td>-0.001808</td>\n",
              "      <td>0.010517</td>\n",
              "      <td>0.005106</td>\n",
              "      <td>-0.006488</td>\n",
              "      <td>-0.006739</td>\n",
              "      <td>-0.000863</td>\n",
              "      <td>-0.015017</td>\n",
              "      <td>-0.012057</td>\n",
              "      <td>0.000549</td>\n",
              "      <td>-0.006825</td>\n",
              "      <td>-0.006421</td>\n",
              "      <td>-0.008743</td>\n",
              "      <td>0.000126</td>\n",
              "      <td>-0.011754</td>\n",
              "      <td>0.017352</td>\n",
              "      <td>-0.014623</td>\n",
              "      <td>-0.005291</td>\n",
              "      <td>-0.008612</td>\n",
              "    </tr>\n",
              "    <tr>\n",
              "      <th>SeniorCitizen</th>\n",
              "      <td>-0.001874</td>\n",
              "      <td>1.000000</td>\n",
              "      <td>0.016479</td>\n",
              "      <td>-0.211185</td>\n",
              "      <td>0.016567</td>\n",
              "      <td>0.008576</td>\n",
              "      <td>0.146185</td>\n",
              "      <td>-0.032310</td>\n",
              "      <td>-0.128221</td>\n",
              "      <td>-0.013632</td>\n",
              "      <td>-0.021398</td>\n",
              "      <td>-0.151268</td>\n",
              "      <td>0.030776</td>\n",
              "      <td>0.047266</td>\n",
              "      <td>-0.142554</td>\n",
              "      <td>0.156530</td>\n",
              "      <td>-0.038551</td>\n",
              "      <td>0.219524</td>\n",
              "      <td>0.037653</td>\n",
              "      <td>0.150889</td>\n",
              "    </tr>\n",
              "    <tr>\n",
              "      <th>Partner</th>\n",
              "      <td>-0.001808</td>\n",
              "      <td>0.016479</td>\n",
              "      <td>1.000000</td>\n",
              "      <td>0.452676</td>\n",
              "      <td>0.379697</td>\n",
              "      <td>0.017706</td>\n",
              "      <td>0.142410</td>\n",
              "      <td>0.000891</td>\n",
              "      <td>0.150828</td>\n",
              "      <td>0.153130</td>\n",
              "      <td>0.166330</td>\n",
              "      <td>0.126733</td>\n",
              "      <td>0.137341</td>\n",
              "      <td>0.129574</td>\n",
              "      <td>0.294806</td>\n",
              "      <td>-0.014877</td>\n",
              "      <td>-0.154798</td>\n",
              "      <td>0.106501</td>\n",
              "      <td>0.059568</td>\n",
              "      <td>-0.150448</td>\n",
              "    </tr>\n",
              "    <tr>\n",
              "      <th>Dependents</th>\n",
              "      <td>0.010517</td>\n",
              "      <td>-0.211185</td>\n",
              "      <td>0.452676</td>\n",
              "      <td>1.000000</td>\n",
              "      <td>0.159712</td>\n",
              "      <td>-0.001762</td>\n",
              "      <td>-0.024991</td>\n",
              "      <td>0.044590</td>\n",
              "      <td>0.152166</td>\n",
              "      <td>0.091015</td>\n",
              "      <td>0.080537</td>\n",
              "      <td>0.133524</td>\n",
              "      <td>0.046885</td>\n",
              "      <td>0.021321</td>\n",
              "      <td>0.243187</td>\n",
              "      <td>-0.111377</td>\n",
              "      <td>-0.040292</td>\n",
              "      <td>-0.107507</td>\n",
              "      <td>-0.009572</td>\n",
              "      <td>-0.164221</td>\n",
              "    </tr>\n",
              "    <tr>\n",
              "      <th>tenure</th>\n",
              "      <td>0.005106</td>\n",
              "      <td>0.016567</td>\n",
              "      <td>0.379697</td>\n",
              "      <td>0.159712</td>\n",
              "      <td>1.000000</td>\n",
              "      <td>0.008448</td>\n",
              "      <td>0.343032</td>\n",
              "      <td>-0.030359</td>\n",
              "      <td>0.325468</td>\n",
              "      <td>0.370876</td>\n",
              "      <td>0.371105</td>\n",
              "      <td>0.322942</td>\n",
              "      <td>0.289373</td>\n",
              "      <td>0.296866</td>\n",
              "      <td>0.671607</td>\n",
              "      <td>0.006152</td>\n",
              "      <td>-0.370436</td>\n",
              "      <td>0.268133</td>\n",
              "      <td>0.158523</td>\n",
              "      <td>-0.352229</td>\n",
              "    </tr>\n",
              "    <tr>\n",
              "      <th>PhoneService</th>\n",
              "      <td>-0.006488</td>\n",
              "      <td>0.008576</td>\n",
              "      <td>0.017706</td>\n",
              "      <td>-0.001762</td>\n",
              "      <td>0.008448</td>\n",
              "      <td>1.000000</td>\n",
              "      <td>-0.020538</td>\n",
              "      <td>0.387436</td>\n",
              "      <td>-0.015198</td>\n",
              "      <td>0.024105</td>\n",
              "      <td>0.003727</td>\n",
              "      <td>-0.019158</td>\n",
              "      <td>0.055353</td>\n",
              "      <td>0.043870</td>\n",
              "      <td>0.002247</td>\n",
              "      <td>0.016505</td>\n",
              "      <td>-0.004184</td>\n",
              "      <td>0.271209</td>\n",
              "      <td>0.083195</td>\n",
              "      <td>0.011942</td>\n",
              "    </tr>\n",
              "    <tr>\n",
              "      <th>MultipleLines</th>\n",
              "      <td>-0.006739</td>\n",
              "      <td>0.146185</td>\n",
              "      <td>0.142410</td>\n",
              "      <td>-0.024991</td>\n",
              "      <td>0.343032</td>\n",
              "      <td>-0.020538</td>\n",
              "      <td>1.000000</td>\n",
              "      <td>-0.109216</td>\n",
              "      <td>0.007141</td>\n",
              "      <td>0.117327</td>\n",
              "      <td>0.122318</td>\n",
              "      <td>0.011466</td>\n",
              "      <td>0.175059</td>\n",
              "      <td>0.180957</td>\n",
              "      <td>0.110842</td>\n",
              "      <td>0.165146</td>\n",
              "      <td>-0.176793</td>\n",
              "      <td>0.444580</td>\n",
              "      <td>0.114955</td>\n",
              "      <td>0.038037</td>\n",
              "    </tr>\n",
              "    <tr>\n",
              "      <th>InternetService</th>\n",
              "      <td>-0.000863</td>\n",
              "      <td>-0.032310</td>\n",
              "      <td>0.000891</td>\n",
              "      <td>0.044590</td>\n",
              "      <td>-0.030359</td>\n",
              "      <td>0.387436</td>\n",
              "      <td>-0.109216</td>\n",
              "      <td>1.000000</td>\n",
              "      <td>-0.028416</td>\n",
              "      <td>0.036138</td>\n",
              "      <td>0.044944</td>\n",
              "      <td>-0.026047</td>\n",
              "      <td>0.107417</td>\n",
              "      <td>0.098350</td>\n",
              "      <td>0.099721</td>\n",
              "      <td>-0.138625</td>\n",
              "      <td>0.086140</td>\n",
              "      <td>-0.244965</td>\n",
              "      <td>-0.055724</td>\n",
              "      <td>-0.047291</td>\n",
              "    </tr>\n",
              "    <tr>\n",
              "      <th>OnlineSecurity</th>\n",
              "      <td>-0.015017</td>\n",
              "      <td>-0.128221</td>\n",
              "      <td>0.150828</td>\n",
              "      <td>0.152166</td>\n",
              "      <td>0.325468</td>\n",
              "      <td>-0.015198</td>\n",
              "      <td>0.007141</td>\n",
              "      <td>-0.028416</td>\n",
              "      <td>1.000000</td>\n",
              "      <td>0.185126</td>\n",
              "      <td>0.175985</td>\n",
              "      <td>0.285028</td>\n",
              "      <td>0.044669</td>\n",
              "      <td>0.055954</td>\n",
              "      <td>0.374416</td>\n",
              "      <td>-0.157641</td>\n",
              "      <td>-0.096726</td>\n",
              "      <td>-0.044692</td>\n",
              "      <td>0.042357</td>\n",
              "      <td>-0.289309</td>\n",
              "    </tr>\n",
              "    <tr>\n",
              "      <th>OnlineBackup</th>\n",
              "      <td>-0.012057</td>\n",
              "      <td>-0.013632</td>\n",
              "      <td>0.153130</td>\n",
              "      <td>0.091015</td>\n",
              "      <td>0.370876</td>\n",
              "      <td>0.024105</td>\n",
              "      <td>0.117327</td>\n",
              "      <td>0.036138</td>\n",
              "      <td>0.185126</td>\n",
              "      <td>1.000000</td>\n",
              "      <td>0.187757</td>\n",
              "      <td>0.195748</td>\n",
              "      <td>0.147186</td>\n",
              "      <td>0.136722</td>\n",
              "      <td>0.280980</td>\n",
              "      <td>-0.013370</td>\n",
              "      <td>-0.124847</td>\n",
              "      <td>0.141258</td>\n",
              "      <td>0.090756</td>\n",
              "      <td>-0.195525</td>\n",
              "    </tr>\n",
              "    <tr>\n",
              "      <th>DeviceProtection</th>\n",
              "      <td>0.000549</td>\n",
              "      <td>-0.021398</td>\n",
              "      <td>0.166330</td>\n",
              "      <td>0.080537</td>\n",
              "      <td>0.371105</td>\n",
              "      <td>0.003727</td>\n",
              "      <td>0.122318</td>\n",
              "      <td>0.044944</td>\n",
              "      <td>0.175985</td>\n",
              "      <td>0.187757</td>\n",
              "      <td>1.000000</td>\n",
              "      <td>0.240593</td>\n",
              "      <td>0.276652</td>\n",
              "      <td>0.288799</td>\n",
              "      <td>0.350277</td>\n",
              "      <td>-0.038234</td>\n",
              "      <td>-0.135750</td>\n",
              "      <td>0.189949</td>\n",
              "      <td>0.105905</td>\n",
              "      <td>-0.178134</td>\n",
              "    </tr>\n",
              "    <tr>\n",
              "      <th>TechSupport</th>\n",
              "      <td>-0.006825</td>\n",
              "      <td>-0.151268</td>\n",
              "      <td>0.126733</td>\n",
              "      <td>0.133524</td>\n",
              "      <td>0.322942</td>\n",
              "      <td>-0.019158</td>\n",
              "      <td>0.011466</td>\n",
              "      <td>-0.026047</td>\n",
              "      <td>0.285028</td>\n",
              "      <td>0.195748</td>\n",
              "      <td>0.240593</td>\n",
              "      <td>1.000000</td>\n",
              "      <td>0.161305</td>\n",
              "      <td>0.161316</td>\n",
              "      <td>0.425367</td>\n",
              "      <td>-0.113600</td>\n",
              "      <td>-0.104670</td>\n",
              "      <td>0.006412</td>\n",
              "      <td>0.057488</td>\n",
              "      <td>-0.282492</td>\n",
              "    </tr>\n",
              "    <tr>\n",
              "      <th>StreamingTV</th>\n",
              "      <td>-0.006421</td>\n",
              "      <td>0.030776</td>\n",
              "      <td>0.137341</td>\n",
              "      <td>0.046885</td>\n",
              "      <td>0.289373</td>\n",
              "      <td>0.055353</td>\n",
              "      <td>0.175059</td>\n",
              "      <td>0.107417</td>\n",
              "      <td>0.044669</td>\n",
              "      <td>0.147186</td>\n",
              "      <td>0.276652</td>\n",
              "      <td>0.161305</td>\n",
              "      <td>1.000000</td>\n",
              "      <td>0.434772</td>\n",
              "      <td>0.227116</td>\n",
              "      <td>0.096642</td>\n",
              "      <td>-0.104234</td>\n",
              "      <td>0.377224</td>\n",
              "      <td>0.138173</td>\n",
              "      <td>-0.036581</td>\n",
              "    </tr>\n",
              "    <tr>\n",
              "      <th>StreamingMovies</th>\n",
              "      <td>-0.008743</td>\n",
              "      <td>0.047266</td>\n",
              "      <td>0.129574</td>\n",
              "      <td>0.021321</td>\n",
              "      <td>0.296866</td>\n",
              "      <td>0.043870</td>\n",
              "      <td>0.180957</td>\n",
              "      <td>0.098350</td>\n",
              "      <td>0.055954</td>\n",
              "      <td>0.136722</td>\n",
              "      <td>0.288799</td>\n",
              "      <td>0.161316</td>\n",
              "      <td>0.434772</td>\n",
              "      <td>1.000000</td>\n",
              "      <td>0.231226</td>\n",
              "      <td>0.083700</td>\n",
              "      <td>-0.111241</td>\n",
              "      <td>0.375323</td>\n",
              "      <td>0.145366</td>\n",
              "      <td>-0.038492</td>\n",
              "    </tr>\n",
              "    <tr>\n",
              "      <th>Contract</th>\n",
              "      <td>0.000126</td>\n",
              "      <td>-0.142554</td>\n",
              "      <td>0.294806</td>\n",
              "      <td>0.243187</td>\n",
              "      <td>0.671607</td>\n",
              "      <td>0.002247</td>\n",
              "      <td>0.110842</td>\n",
              "      <td>0.099721</td>\n",
              "      <td>0.374416</td>\n",
              "      <td>0.280980</td>\n",
              "      <td>0.350277</td>\n",
              "      <td>0.425367</td>\n",
              "      <td>0.227116</td>\n",
              "      <td>0.231226</td>\n",
              "      <td>1.000000</td>\n",
              "      <td>-0.176733</td>\n",
              "      <td>-0.227543</td>\n",
              "      <td>-0.050595</td>\n",
              "      <td>0.106178</td>\n",
              "      <td>-0.396713</td>\n",
              "    </tr>\n",
              "    <tr>\n",
              "      <th>PaperlessBilling</th>\n",
              "      <td>-0.011754</td>\n",
              "      <td>0.156530</td>\n",
              "      <td>-0.014877</td>\n",
              "      <td>-0.111377</td>\n",
              "      <td>0.006152</td>\n",
              "      <td>0.016505</td>\n",
              "      <td>0.165146</td>\n",
              "      <td>-0.138625</td>\n",
              "      <td>-0.157641</td>\n",
              "      <td>-0.013370</td>\n",
              "      <td>-0.038234</td>\n",
              "      <td>-0.113600</td>\n",
              "      <td>0.096642</td>\n",
              "      <td>0.083700</td>\n",
              "      <td>-0.176733</td>\n",
              "      <td>1.000000</td>\n",
              "      <td>-0.062904</td>\n",
              "      <td>0.344417</td>\n",
              "      <td>0.100957</td>\n",
              "      <td>0.191825</td>\n",
              "    </tr>\n",
              "    <tr>\n",
              "      <th>PaymentMethod</th>\n",
              "      <td>0.017352</td>\n",
              "      <td>-0.038551</td>\n",
              "      <td>-0.154798</td>\n",
              "      <td>-0.040292</td>\n",
              "      <td>-0.370436</td>\n",
              "      <td>-0.004184</td>\n",
              "      <td>-0.176793</td>\n",
              "      <td>0.086140</td>\n",
              "      <td>-0.096726</td>\n",
              "      <td>-0.124847</td>\n",
              "      <td>-0.135750</td>\n",
              "      <td>-0.104670</td>\n",
              "      <td>-0.104234</td>\n",
              "      <td>-0.111241</td>\n",
              "      <td>-0.227543</td>\n",
              "      <td>-0.062904</td>\n",
              "      <td>1.000000</td>\n",
              "      <td>-0.193822</td>\n",
              "      <td>-0.067477</td>\n",
              "      <td>0.107062</td>\n",
              "    </tr>\n",
              "    <tr>\n",
              "      <th>MonthlyCharges</th>\n",
              "      <td>-0.014623</td>\n",
              "      <td>0.219524</td>\n",
              "      <td>0.106501</td>\n",
              "      <td>-0.107507</td>\n",
              "      <td>0.268133</td>\n",
              "      <td>0.271209</td>\n",
              "      <td>0.444580</td>\n",
              "      <td>-0.244965</td>\n",
              "      <td>-0.044692</td>\n",
              "      <td>0.141258</td>\n",
              "      <td>0.189949</td>\n",
              "      <td>0.006412</td>\n",
              "      <td>0.377224</td>\n",
              "      <td>0.375323</td>\n",
              "      <td>-0.050595</td>\n",
              "      <td>0.344417</td>\n",
              "      <td>-0.193822</td>\n",
              "      <td>1.000000</td>\n",
              "      <td>0.289637</td>\n",
              "      <td>0.183523</td>\n",
              "    </tr>\n",
              "    <tr>\n",
              "      <th>TotalCharges</th>\n",
              "      <td>-0.005291</td>\n",
              "      <td>0.037653</td>\n",
              "      <td>0.059568</td>\n",
              "      <td>-0.009572</td>\n",
              "      <td>0.158523</td>\n",
              "      <td>0.083195</td>\n",
              "      <td>0.114955</td>\n",
              "      <td>-0.055724</td>\n",
              "      <td>0.042357</td>\n",
              "      <td>0.090756</td>\n",
              "      <td>0.105905</td>\n",
              "      <td>0.057488</td>\n",
              "      <td>0.138173</td>\n",
              "      <td>0.145366</td>\n",
              "      <td>0.106178</td>\n",
              "      <td>0.100957</td>\n",
              "      <td>-0.067477</td>\n",
              "      <td>0.289637</td>\n",
              "      <td>1.000000</td>\n",
              "      <td>0.014479</td>\n",
              "    </tr>\n",
              "    <tr>\n",
              "      <th>Churn</th>\n",
              "      <td>-0.008612</td>\n",
              "      <td>0.150889</td>\n",
              "      <td>-0.150448</td>\n",
              "      <td>-0.164221</td>\n",
              "      <td>-0.352229</td>\n",
              "      <td>0.011942</td>\n",
              "      <td>0.038037</td>\n",
              "      <td>-0.047291</td>\n",
              "      <td>-0.289309</td>\n",
              "      <td>-0.195525</td>\n",
              "      <td>-0.178134</td>\n",
              "      <td>-0.282492</td>\n",
              "      <td>-0.036581</td>\n",
              "      <td>-0.038492</td>\n",
              "      <td>-0.396713</td>\n",
              "      <td>0.191825</td>\n",
              "      <td>0.107062</td>\n",
              "      <td>0.183523</td>\n",
              "      <td>0.014479</td>\n",
              "      <td>1.000000</td>\n",
              "    </tr>\n",
              "  </tbody>\n",
              "</table>\n",
              "</div>\n",
              "      <button class=\"colab-df-convert\" onclick=\"convertToInteractive('df-4b04a7d1-505d-4351-9e87-01723f88c7fc')\"\n",
              "              title=\"Convert this dataframe to an interactive table.\"\n",
              "              style=\"display:none;\">\n",
              "        \n",
              "  <svg xmlns=\"http://www.w3.org/2000/svg\" height=\"24px\"viewBox=\"0 0 24 24\"\n",
              "       width=\"24px\">\n",
              "    <path d=\"M0 0h24v24H0V0z\" fill=\"none\"/>\n",
              "    <path d=\"M18.56 5.44l.94 2.06.94-2.06 2.06-.94-2.06-.94-.94-2.06-.94 2.06-2.06.94zm-11 1L8.5 8.5l.94-2.06 2.06-.94-2.06-.94L8.5 2.5l-.94 2.06-2.06.94zm10 10l.94 2.06.94-2.06 2.06-.94-2.06-.94-.94-2.06-.94 2.06-2.06.94z\"/><path d=\"M17.41 7.96l-1.37-1.37c-.4-.4-.92-.59-1.43-.59-.52 0-1.04.2-1.43.59L10.3 9.45l-7.72 7.72c-.78.78-.78 2.05 0 2.83L4 21.41c.39.39.9.59 1.41.59.51 0 1.02-.2 1.41-.59l7.78-7.78 2.81-2.81c.8-.78.8-2.07 0-2.86zM5.41 20L4 18.59l7.72-7.72 1.47 1.35L5.41 20z\"/>\n",
              "  </svg>\n",
              "      </button>\n",
              "      \n",
              "  <style>\n",
              "    .colab-df-container {\n",
              "      display:flex;\n",
              "      flex-wrap:wrap;\n",
              "      gap: 12px;\n",
              "    }\n",
              "\n",
              "    .colab-df-convert {\n",
              "      background-color: #E8F0FE;\n",
              "      border: none;\n",
              "      border-radius: 50%;\n",
              "      cursor: pointer;\n",
              "      display: none;\n",
              "      fill: #1967D2;\n",
              "      height: 32px;\n",
              "      padding: 0 0 0 0;\n",
              "      width: 32px;\n",
              "    }\n",
              "\n",
              "    .colab-df-convert:hover {\n",
              "      background-color: #E2EBFA;\n",
              "      box-shadow: 0px 1px 2px rgba(60, 64, 67, 0.3), 0px 1px 3px 1px rgba(60, 64, 67, 0.15);\n",
              "      fill: #174EA6;\n",
              "    }\n",
              "\n",
              "    [theme=dark] .colab-df-convert {\n",
              "      background-color: #3B4455;\n",
              "      fill: #D2E3FC;\n",
              "    }\n",
              "\n",
              "    [theme=dark] .colab-df-convert:hover {\n",
              "      background-color: #434B5C;\n",
              "      box-shadow: 0px 1px 3px 1px rgba(0, 0, 0, 0.15);\n",
              "      filter: drop-shadow(0px 1px 2px rgba(0, 0, 0, 0.3));\n",
              "      fill: #FFFFFF;\n",
              "    }\n",
              "  </style>\n",
              "\n",
              "      <script>\n",
              "        const buttonEl =\n",
              "          document.querySelector('#df-4b04a7d1-505d-4351-9e87-01723f88c7fc button.colab-df-convert');\n",
              "        buttonEl.style.display =\n",
              "          google.colab.kernel.accessAllowed ? 'block' : 'none';\n",
              "\n",
              "        async function convertToInteractive(key) {\n",
              "          const element = document.querySelector('#df-4b04a7d1-505d-4351-9e87-01723f88c7fc');\n",
              "          const dataTable =\n",
              "            await google.colab.kernel.invokeFunction('convertToInteractive',\n",
              "                                                     [key], {});\n",
              "          if (!dataTable) return;\n",
              "\n",
              "          const docLinkHtml = 'Like what you see? Visit the ' +\n",
              "            '<a target=\"_blank\" href=https://colab.research.google.com/notebooks/data_table.ipynb>data table notebook</a>'\n",
              "            + ' to learn more about interactive tables.';\n",
              "          element.innerHTML = '';\n",
              "          dataTable['output_type'] = 'display_data';\n",
              "          await google.colab.output.renderOutput(dataTable, element);\n",
              "          const docLink = document.createElement('div');\n",
              "          docLink.innerHTML = docLinkHtml;\n",
              "          element.appendChild(docLink);\n",
              "        }\n",
              "      </script>\n",
              "    </div>\n",
              "  </div>\n",
              "  "
            ]
          },
          "metadata": {},
          "execution_count": 42
        }
      ]
    },
    {
      "cell_type": "code",
      "source": [
        "#Correlation plot\n",
        "\n",
        "corr_df = df.corr(method='pearson')\n",
        "\n",
        "plt.figure(figsize=(8, 6))\n",
        "sns.heatmap(corr_df, annot=True)\n",
        "plt.show()"
      ],
      "metadata": {
        "colab": {
          "base_uri": "https://localhost:8080/",
          "height": 454
        },
        "id": "b9FpokFBom0b",
        "outputId": "5a5ede7d-28f0-4cdf-e69b-984ed5cae6d1"
      },
      "execution_count": null,
      "outputs": [
        {
          "output_type": "display_data",
          "data": {
            "text/plain": [
              "<Figure size 576x432 with 2 Axes>"
            ],
            "image/png": "[encoded data removed]"
          },
          "metadata": {
            "needs_background": "light"
          }
        }
      ]
    },
    {
      "cell_type": "code",
      "source": [
        "X = df[[        \n",
        "\"gender\" ,             \n",
        "\"SeniorCitizen\" ,      \n",
        "\"Partner\" ,           \n",
        "\"Dependents\" ,        \n",
        "\"tenure\" ,             \n",
        "\"PhoneService\" ,       \n",
        "\"MultipleLines\" ,      \n",
        "\"InternetService\" ,    \n",
        "\"OnlineSecurity\" ,     \n",
        "\"OnlineBackup\" ,       \n",
        "\"DeviceProtection\" ,   \n",
        "\"TechSupport\" ,        \n",
        "\"StreamingTV\",         \n",
        "\"StreamingMovies\" ,    \n",
        "\"Contract\" ,           \n",
        "\"PaperlessBilling\" ,   \n",
        "\"PaymentMethod\"  ,    \n",
        "\"MonthlyCharges\"  ,    \n",
        "\"TotalCharges\"]]\n",
        "\n",
        "y = df[\"Churn\"]"
      ],
      "metadata": {
        "id": "4S7rbfPKofgW"
      },
      "execution_count": null,
      "outputs": []
    },
    {
      "cell_type": "code",
      "source": [],
      "metadata": {
        "id": "smWk9e7iofnY"
      },
      "execution_count": null,
      "outputs": []
    },
    {
      "cell_type": "code",
      "source": [
        "\n",
        "X_train, X_test, y_train, y_test = train_test_split(X, y, test_size=0.15, random_state=0) #80/20 split\n"
      ],
      "metadata": {
        "id": "UcuHkBY4UcO4"
      },
      "execution_count": null,
      "outputs": []
    },
    {
      "cell_type": "code",
      "source": [
        "print(X_train.shape,X_test.shape,y_train.shape,y_test.shape)\n"
      ],
      "metadata": {
        "colab": {
          "base_uri": "https://localhost:8080/"
        },
        "id": "qiztMNCdSg65",
        "outputId": "c5676878-1b7f-4f9e-a191-9c8683b50fd8"
      },
      "execution_count": null,
      "outputs": [
        {
          "output_type": "stream",
          "name": "stdout",
          "text": [
            "(5634, 19) (1409, 19) (5634,) (1409,)\n"
          ]
        }
      ]
    },
    {
      "cell_type": "code",
      "source": [],
      "metadata": {
        "id": "uPts4jPsV5xy"
      },
      "execution_count": null,
      "outputs": []
    },
    {
      "cell_type": "code",
      "source": [
        "\n",
        "model = LogisticRegression()\n",
        "model.fit(X_train, y_train)"
      ],
      "metadata": {
        "colab": {
          "base_uri": "https://localhost:8080/"
        },
        "id": "YQF06vqwShLG",
        "outputId": "a34c7dd0-38d9-4f6d-acf0-d9c731751343"
      },
      "execution_count": null,
      "outputs": [
        {
          "output_type": "stream",
          "name": "stderr",
          "text": [
            "/usr/local/lib/python3.8/dist-packages/sklearn/linear_model/_logistic.py:814: ConvergenceWarning: lbfgs failed to converge (status=1):\n",
            "STOP: TOTAL NO. of ITERATIONS REACHED LIMIT.\n",
            "\n",
            "Increase the number of iterations (max_iter) or scale the data as shown in:\n",
            "    https://scikit-learn.org/stable/modules/preprocessing.html\n",
            "Please also refer to the documentation for alternative solver options:\n",
            "    https://scikit-learn.org/stable/modules/linear_model.html#logistic-regression\n",
            "  n_iter_i = _check_optimize_result(\n"
          ]
        },
        {
          "output_type": "execute_result",
          "data": {
            "text/plain": [
              "LogisticRegression()"
            ]
          },
          "metadata": {},
          "execution_count": 52
        }
      ]
    },
    {
      "cell_type": "code",
      "source": [
        "# make predictions for test data\n",
        "y_pred = model.predict(X_test)\n",
        "predictions = [round(value) for value in y_pred]\n"
      ],
      "metadata": {
        "id": "AyJjzKvJgot-"
      },
      "execution_count": null,
      "outputs": []
    },
    {
      "cell_type": "code",
      "source": [
        "matrix = confusion_matrix(y_test,predictions)\n",
        "print('Confusion matrix : \\n',matrix)"
      ],
      "metadata": {
        "colab": {
          "base_uri": "https://localhost:8080/"
        },
        "id": "x0myoV-JoSDl",
        "outputId": "93505a90-053b-425f-90f2-466e1e21e413"
      },
      "execution_count": null,
      "outputs": [
        {
          "output_type": "stream",
          "name": "stdout",
          "text": [
            "Confusion matrix : \n",
            " [[705  86]\n",
            " [134 132]]\n"
          ]
        }
      ]
    },
    {
      "cell_type": "code",
      "source": [
        "from sklearn.metrics import classification_report\n",
        "#Check Precision, Recall, f1-score\n",
        "print(classification_report(y_test, predictions))"
      ],
      "metadata": {
        "colab": {
          "base_uri": "https://localhost:8080/"
        },
        "id": "tz_T8FeOtQjG",
        "outputId": "221f205e-f848-4a23-a5f7-2f689c74a351"
      },
      "execution_count": null,
      "outputs": [
        {
          "output_type": "stream",
          "name": "stdout",
          "text": [
            "              precision    recall  f1-score   support\n",
            "\n",
            "           0       0.84      0.89      0.87       791\n",
            "           1       0.61      0.50      0.55       266\n",
            "\n",
            "    accuracy                           0.79      1057\n",
            "   macro avg       0.72      0.69      0.71      1057\n",
            "weighted avg       0.78      0.79      0.78      1057\n",
            "\n"
          ]
        }
      ]
    },
    {
      "cell_type": "code",
      "source": [
        "\n",
        "accuracy = accuracy_score(y_test, predictions)\n",
        "print(\"Accuracy: %.2f%%\" % (accuracy * 100.0))"
      ],
      "metadata": {
        "colab": {
          "base_uri": "https://localhost:8080/"
        },
        "id": "R-NiLlfCVDUM",
        "outputId": "a6b82ff7-ed3b-4ea3-ab6a-db19233c50bc"
      },
      "execution_count": null,
      "outputs": [
        {
          "output_type": "stream",
          "name": "stdout",
          "text": [
            "Accuracy: 79.19%\n"
          ]
        }
      ]
    }
  ]
}